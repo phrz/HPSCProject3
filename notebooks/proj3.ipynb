{
 "cells": [
  {
   "cell_type": "markdown",
   "metadata": {},
   "source": [
    "# Project 3 – Polynomial Interpolation\n",
    "## MATH 3316 High Performance Scientific Computing, Fall 2016\n",
    "\n",
    "Author: Paul Herz\n",
    "\n",
    "The designated programming language for this project was C++, built in Xcode and compiled with Clang (Apple LLVM 8.0.0) using the C++14 dialect.\n",
    "\n",
    "### Structure of this Project\n",
    "\n",
    "This project's file structure follows the GNU-style C++ project standard."
   ]
  },
  {
   "cell_type": "code",
   "execution_count": 1,
   "metadata": {
    "collapsed": false
   },
   "outputs": [
    {
     "name": "stdout",
     "output_type": "stream",
     "text": [
      "\u001b[1m\u001b[36mHPSCProject3.xcodeproj\u001b[m\u001b[m/ \u001b[1m\u001b[36mlib\u001b[m\u001b[m/                    \u001b[1m\u001b[36msrc\u001b[m\u001b[m/\r\n",
      "\u001b[1m\u001b[36mbin\u001b[m\u001b[m/                    \u001b[1m\u001b[36mnotebooks\u001b[m\u001b[m/\r\n",
      "\u001b[1m\u001b[36mdata\u001b[m\u001b[m/                   \u001b[1m\u001b[36mreports\u001b[m\u001b[m/\r\n"
     ]
    }
   ],
   "source": [
    "%ls .."
   ]
  },
  {
   "cell_type": "markdown",
   "metadata": {
    "collapsed": true
   },
   "source": [
    "Excluding the `.xcodeproj` file, which was used for integration with the Xcode IDE, debugging, and profiling purposes, each item in the project directory serves the following purpose:\n",
    "\n",
    "- `Makefile`: GNU Make project build automation definitions\n",
    "- `bin/`: compiled binaries. Make will put binaries here by default.\n",
    "- `data/`: where calculated data is stored after program execution. Files are `.txt` files containing real numbers, space delimited to denote row items, and newline delimited to denote new rows. Some data files, whose names end in `_out`, are just piped output from program execution and follow no specific format.\n",
    "- `lib/`: reused libraries that are not part of this project specifically. Contains my rewrite of the Matrix library ([phrz/matrix](https://github.com/phrz/matrix)).\n",
    "- `notebooks/`: Python 3 Jupyter notebooks, notably the one used to generate this report.\n",
    "- `reports/`: PDFs generated from the Jupyter notebooks via `nbconvert` and `pdflatex`.\n",
    "- `src/`: contains the main mathematical routines described in this report, which are used to generate the data and redirected output in `data/`.\n",
    "\n",
    "### Using this Project\n",
    "\n",
    "#### Prerequisites\n",
    "- A Unix or Unix-like OS (e.g. macOS or Linux)\n",
    "- A compiler with support for C++14 (LLVM or GNU toolchain)\n",
    "- Python ≥3.5\n",
    "- The latest Jupyter distribution\n",
    "- LaTeX with `pdflatex`\n",
    "- GNU Make ≥3.81\n",
    "\n",
    "#### Building this project\n",
    "This project provides several GNU Make targets, with a handful of them being especially useful.\n",
    "\n",
    "`make all` (default) - will compile binaries, execute them to generate data files, execute Jupyter notebooks under fresh kernels with just-generated data files, and convert them to PDFs in `/reports`.\n",
    "\n",
    "`make all_bin` - will compile binaries for parts A, B, and C (`vandermonde`, `newton`, and `kepler`) of this project.\n",
    "\n",
    "`make all_data` - will compile binaries and execute them to generate data files.\n",
    "\n",
    "`make clean` - will delete all compiled binaries, generated data, executed notebook copies (but not the original notebooks), and **report PDFs**.\n",
    "\n",
    "Below, find attached the full Makefile:"
   ]
  },
  {
   "cell_type": "code",
   "execution_count": null,
   "metadata": {
    "collapsed": true
   },
   "outputs": [],
   "source": []
  }
 ],
 "metadata": {
  "kernelspec": {
   "display_name": "Python 3",
   "language": "python",
   "name": "python3"
  },
  "language_info": {
   "codemirror_mode": {
    "name": "ipython",
    "version": 3
   },
   "file_extension": ".py",
   "mimetype": "text/x-python",
   "name": "python",
   "nbconvert_exporter": "python",
   "pygments_lexer": "ipython3",
   "version": "3.5.2"
  }
 },
 "nbformat": 4,
 "nbformat_minor": 1
}
