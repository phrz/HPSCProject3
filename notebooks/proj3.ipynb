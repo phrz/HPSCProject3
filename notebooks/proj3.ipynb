{
 "cells": [
  {
   "cell_type": "markdown",
   "metadata": {},
   "source": [
    "# Project 3 – Polynomial Interpolation\n",
    "## MATH 3316 High Performance Scientific Computing, Fall 2016\n",
    "\n",
    "Author: Paul Herz\n",
    "\n",
    "The designated programming language for this project was C++, built in Xcode and compiled with Clang (Apple LLVM 8.0.0) using the C++14 dialect.\n",
    "\n",
    "### Structure of this Project\n",
    "\n",
    "This project's file structure follows the GNU-style C++ project standard."
   ]
  },
  {
   "cell_type": "code",
   "execution_count": 1,
   "metadata": {
    "collapsed": false
   },
   "outputs": [
    {
     "name": "stdout",
     "output_type": "stream",
     "text": [
      "\u001b[1m\u001b[36mHPSCProject3.xcodeproj\u001b[m\u001b[m/ \u001b[1m\u001b[36mlib\u001b[m\u001b[m/                    \u001b[1m\u001b[36msrc\u001b[m\u001b[m/\r\n",
      "\u001b[1m\u001b[36mbin\u001b[m\u001b[m/                    \u001b[1m\u001b[36mnotebooks\u001b[m\u001b[m/\r\n",
      "\u001b[1m\u001b[36mdata\u001b[m\u001b[m/                   \u001b[1m\u001b[36mreports\u001b[m\u001b[m/\r\n"
     ]
    }
   ],
   "source": [
    "%ls .."
   ]
  },
  {
   "cell_type": "code",
   "execution_count": null,
   "metadata": {
    "collapsed": true
   },
   "outputs": [],
   "source": []
  }
 ],
 "metadata": {
  "kernelspec": {
   "display_name": "Python 3",
   "language": "python",
   "name": "python3"
  },
  "language_info": {
   "codemirror_mode": {
    "name": "ipython",
    "version": 3
   },
   "file_extension": ".py",
   "mimetype": "text/x-python",
   "name": "python",
   "nbconvert_exporter": "python",
   "pygments_lexer": "ipython3",
   "version": "3.5.2"
  }
 },
 "nbformat": 4,
 "nbformat_minor": 1
}
